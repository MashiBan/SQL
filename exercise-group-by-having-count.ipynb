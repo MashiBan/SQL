{
 "cells": [
  {
   "cell_type": "markdown",
   "id": "7801deea",
   "metadata": {
    "papermill": {
     "duration": 0.006137,
     "end_time": "2023-09-05T09:10:53.294313",
     "exception": false,
     "start_time": "2023-09-05T09:10:53.288176",
     "status": "completed"
    },
    "tags": []
   },
   "source": [
    "**This notebook is an exercise in the [SQL](https://www.kaggle.com/learn/intro-to-sql) course.  You can reference the tutorial at [this link](https://www.kaggle.com/dansbecker/group-by-having-count).**\n",
    "\n",
    "---\n"
   ]
  },
  {
   "cell_type": "markdown",
   "id": "a72e77f7",
   "metadata": {
    "papermill": {
     "duration": 0.005289,
     "end_time": "2023-09-05T09:10:53.305270",
     "exception": false,
     "start_time": "2023-09-05T09:10:53.299981",
     "status": "completed"
    },
    "tags": []
   },
   "source": [
    "# Introduction\n",
    "\n",
    "Queries with **GROUP BY** can be powerful. There are many small things that can trip you up (like the order of the clauses), but it will start to feel natural once you've done it a few times. Here, you'll write queries using **GROUP BY** to answer questions from the Hacker News dataset.\n",
    "\n",
    "Before you get started, run the following cell to set everything up:"
   ]
  },
  {
   "cell_type": "code",
   "execution_count": 1,
   "id": "17c0778d",
   "metadata": {
    "execution": {
     "iopub.execute_input": "2023-09-05T09:10:53.318701Z",
     "iopub.status.busy": "2023-09-05T09:10:53.317962Z",
     "iopub.status.idle": "2023-09-05T09:11:02.770870Z",
     "shell.execute_reply": "2023-09-05T09:11:02.768836Z"
    },
    "papermill": {
     "duration": 9.463688,
     "end_time": "2023-09-05T09:11:02.774444",
     "exception": false,
     "start_time": "2023-09-05T09:10:53.310756",
     "status": "completed"
    },
    "tags": []
   },
   "outputs": [
    {
     "name": "stdout",
     "output_type": "stream",
     "text": [
      "Using Kaggle's public dataset BigQuery integration.\n",
      "Setup Complete\n"
     ]
    }
   ],
   "source": [
    "#Set up feedback system\n",
    "from learntools.core import binder\n",
    "binder.bind(globals())\n",
    "\n",
    "with open(\"/opt/conda/lib/python3.10/site-packages/learntools/sql/ex3.py\",\"r\") as f:\n",
    "    ex3 = f.read()\n",
    "    ex3 = ex3.replace(\"SELECT author\",\"SELECT `by`\") # need to use backtick since column name is 'by' which is also a SQL keyword\n",
    "    ex3 = ex3.replace(\"GROUP BY author\",\"GROUP BY `by`\")\n",
    "    ex3 = ex3.replace(\"\\'author\\'\",\"\\'by\\'\")\n",
    "    ex3 = ex3.replace(\"`author`\",\"\\`by\\`\")\n",
    "    ex3 = ex3.replace(\"bigquery-public-data.hacker_news.comments\",\"bigquery-public-data.hacker_news.full\")\n",
    "\n",
    "    #Write fixes into v2 file\n",
    "    with open(\"/opt/conda/lib/python3.10/site-packages/learntools/sql/ex3_v2.py\",\"w\") as f2:\n",
    "        f2.write(ex3)\n",
    "\n",
    "#Import v2\n",
    "from learntools.sql.ex3_v2 import *\n",
    "print(\"Setup Complete\")"
   ]
  },
  {
   "cell_type": "markdown",
   "id": "42af917d",
   "metadata": {
    "papermill": {
     "duration": 0.005578,
     "end_time": "2023-09-05T09:11:02.787390",
     "exception": false,
     "start_time": "2023-09-05T09:11:02.781812",
     "status": "completed"
    },
    "tags": []
   },
   "source": [
    "The code cell below fetches the `comments` table from the `hacker_news` dataset.  We also preview the first five rows of the table."
   ]
  },
  {
   "cell_type": "code",
   "execution_count": 2,
   "id": "f18cc123",
   "metadata": {
    "execution": {
     "iopub.execute_input": "2023-09-05T09:11:02.801262Z",
     "iopub.status.busy": "2023-09-05T09:11:02.800278Z",
     "iopub.status.idle": "2023-09-05T09:11:04.304263Z",
     "shell.execute_reply": "2023-09-05T09:11:04.302520Z"
    },
    "papermill": {
     "duration": 1.514615,
     "end_time": "2023-09-05T09:11:04.307740",
     "exception": false,
     "start_time": "2023-09-05T09:11:02.793125",
     "status": "completed"
    },
    "tags": []
   },
   "outputs": [
    {
     "name": "stdout",
     "output_type": "stream",
     "text": [
      "Using Kaggle's public dataset BigQuery integration.\n"
     ]
    },
    {
     "data": {
      "text/html": [
       "<div>\n",
       "<style scoped>\n",
       "    .dataframe tbody tr th:only-of-type {\n",
       "        vertical-align: middle;\n",
       "    }\n",
       "\n",
       "    .dataframe tbody tr th {\n",
       "        vertical-align: top;\n",
       "    }\n",
       "\n",
       "    .dataframe thead th {\n",
       "        text-align: right;\n",
       "    }\n",
       "</style>\n",
       "<table border=\"1\" class=\"dataframe\">\n",
       "  <thead>\n",
       "    <tr style=\"text-align: right;\">\n",
       "      <th></th>\n",
       "      <th>title</th>\n",
       "      <th>url</th>\n",
       "      <th>text</th>\n",
       "      <th>dead</th>\n",
       "      <th>by</th>\n",
       "      <th>score</th>\n",
       "      <th>time</th>\n",
       "      <th>timestamp</th>\n",
       "      <th>type</th>\n",
       "      <th>id</th>\n",
       "      <th>parent</th>\n",
       "      <th>descendants</th>\n",
       "      <th>ranking</th>\n",
       "      <th>deleted</th>\n",
       "    </tr>\n",
       "  </thead>\n",
       "  <tbody>\n",
       "    <tr>\n",
       "      <th>0</th>\n",
       "      <td>None</td>\n",
       "      <td>None</td>\n",
       "      <td>I would rather just have wired earbuds, period...</td>\n",
       "      <td>None</td>\n",
       "      <td>zeveb</td>\n",
       "      <td>NaN</td>\n",
       "      <td>1591717736</td>\n",
       "      <td>2020-06-09 15:48:56+00:00</td>\n",
       "      <td>comment</td>\n",
       "      <td>23467666</td>\n",
       "      <td>23456782</td>\n",
       "      <td>NaN</td>\n",
       "      <td>NaN</td>\n",
       "      <td>None</td>\n",
       "    </tr>\n",
       "    <tr>\n",
       "      <th>1</th>\n",
       "      <td>None</td>\n",
       "      <td>None</td>\n",
       "      <td>DNS?</td>\n",
       "      <td>None</td>\n",
       "      <td>nly</td>\n",
       "      <td>NaN</td>\n",
       "      <td>1572810465</td>\n",
       "      <td>2019-11-03 19:47:45+00:00</td>\n",
       "      <td>comment</td>\n",
       "      <td>21436112</td>\n",
       "      <td>21435130</td>\n",
       "      <td>NaN</td>\n",
       "      <td>NaN</td>\n",
       "      <td>None</td>\n",
       "    </tr>\n",
       "    <tr>\n",
       "      <th>2</th>\n",
       "      <td>None</td>\n",
       "      <td>None</td>\n",
       "      <td>These benchmarks seem pretty good.  Filterable...</td>\n",
       "      <td>None</td>\n",
       "      <td>mrkeen</td>\n",
       "      <td>NaN</td>\n",
       "      <td>1591717727</td>\n",
       "      <td>2020-06-09 15:48:47+00:00</td>\n",
       "      <td>comment</td>\n",
       "      <td>23467665</td>\n",
       "      <td>23467426</td>\n",
       "      <td>NaN</td>\n",
       "      <td>NaN</td>\n",
       "      <td>None</td>\n",
       "    </tr>\n",
       "    <tr>\n",
       "      <th>3</th>\n",
       "      <td>None</td>\n",
       "      <td>None</td>\n",
       "      <td>Oh really?&lt;p&gt;* Excel alone uses 86.1MB of priv...</td>\n",
       "      <td>None</td>\n",
       "      <td>oceanswave</td>\n",
       "      <td>NaN</td>\n",
       "      <td>1462987532</td>\n",
       "      <td>2016-05-11 17:25:32+00:00</td>\n",
       "      <td>comment</td>\n",
       "      <td>11677248</td>\n",
       "      <td>11676886</td>\n",
       "      <td>NaN</td>\n",
       "      <td>NaN</td>\n",
       "      <td>None</td>\n",
       "    </tr>\n",
       "    <tr>\n",
       "      <th>4</th>\n",
       "      <td>None</td>\n",
       "      <td>None</td>\n",
       "      <td>These systems are useless.  Of the many flaws:...</td>\n",
       "      <td>None</td>\n",
       "      <td>nyxxie</td>\n",
       "      <td>NaN</td>\n",
       "      <td>1572810473</td>\n",
       "      <td>2019-11-03 19:47:53+00:00</td>\n",
       "      <td>comment</td>\n",
       "      <td>21436113</td>\n",
       "      <td>21435025</td>\n",
       "      <td>NaN</td>\n",
       "      <td>NaN</td>\n",
       "      <td>None</td>\n",
       "    </tr>\n",
       "  </tbody>\n",
       "</table>\n",
       "</div>"
      ],
      "text/plain": [
       "  title   url                                               text  dead  \\\n",
       "0  None  None  I would rather just have wired earbuds, period...  None   \n",
       "1  None  None                                               DNS?  None   \n",
       "2  None  None  These benchmarks seem pretty good.  Filterable...  None   \n",
       "3  None  None  Oh really?<p>* Excel alone uses 86.1MB of priv...  None   \n",
       "4  None  None  These systems are useless.  Of the many flaws:...  None   \n",
       "\n",
       "           by  score        time                 timestamp     type        id  \\\n",
       "0       zeveb    NaN  1591717736 2020-06-09 15:48:56+00:00  comment  23467666   \n",
       "1         nly    NaN  1572810465 2019-11-03 19:47:45+00:00  comment  21436112   \n",
       "2      mrkeen    NaN  1591717727 2020-06-09 15:48:47+00:00  comment  23467665   \n",
       "3  oceanswave    NaN  1462987532 2016-05-11 17:25:32+00:00  comment  11677248   \n",
       "4      nyxxie    NaN  1572810473 2019-11-03 19:47:53+00:00  comment  21436113   \n",
       "\n",
       "     parent  descendants  ranking deleted  \n",
       "0  23456782          NaN      NaN    None  \n",
       "1  21435130          NaN      NaN    None  \n",
       "2  23467426          NaN      NaN    None  \n",
       "3  11676886          NaN      NaN    None  \n",
       "4  21435025          NaN      NaN    None  "
      ]
     },
     "execution_count": 2,
     "metadata": {},
     "output_type": "execute_result"
    }
   ],
   "source": [
    "from google.cloud import bigquery\n",
    "\n",
    "# Create a \"Client\" object\n",
    "client = bigquery.Client()\n",
    "\n",
    "# Construct a reference to the \"hacker_news\" dataset\n",
    "dataset_ref = client.dataset(\"hacker_news\", project=\"bigquery-public-data\")\n",
    "\n",
    "# API request - fetch the dataset\n",
    "dataset = client.get_dataset(dataset_ref)\n",
    "\n",
    "# Construct a reference to the \"comments\" table comments not working use full\n",
    "table_ref = dataset_ref.table(\"full\")\n",
    "\n",
    "# API request - fetch the table\n",
    "table = client.get_table(table_ref)\n",
    "\n",
    "# Preview the first five lines of the \"comments\" table\n",
    "client.list_rows(table, max_results=5).to_dataframe()"
   ]
  },
  {
   "cell_type": "markdown",
   "id": "ef96af70",
   "metadata": {
    "papermill": {
     "duration": 0.006398,
     "end_time": "2023-09-05T09:11:04.321141",
     "exception": false,
     "start_time": "2023-09-05T09:11:04.314743",
     "status": "completed"
    },
    "tags": []
   },
   "source": [
    "# Exercises\n",
    "\n",
    "### 1) Prolific commenters\n",
    "\n",
    "Hacker News would like to send awards to everyone who has written more than 10,000 posts. Write a query that returns all authors with more than 10,000 posts as well as their post counts. Call the column with post counts `NumPosts`.\n",
    "\n",
    "In case sample query is helpful, here is a query you saw in the tutorial to answer a similar question:\n",
    "```\n",
    "query = \"\"\"\n",
    "        SELECT parent, COUNT(1) AS NumPosts\n",
    "        FROM `bigquery-public-data.hacker_news.comments`\n",
    "        GROUP BY parent\n",
    "        HAVING COUNT(1) > 10\n",
    "        \"\"\"\n",
    "```"
   ]
  },
  {
   "cell_type": "code",
   "execution_count": 3,
   "id": "e1507435",
   "metadata": {
    "execution": {
     "iopub.execute_input": "2023-09-05T09:11:04.337205Z",
     "iopub.status.busy": "2023-09-05T09:11:04.336813Z",
     "iopub.status.idle": "2023-09-05T09:11:06.056033Z",
     "shell.execute_reply": "2023-09-05T09:11:06.054270Z"
    },
    "papermill": {
     "duration": 1.731233,
     "end_time": "2023-09-05T09:11:06.059019",
     "exception": false,
     "start_time": "2023-09-05T09:11:04.327786",
     "status": "completed"
    },
    "tags": []
   },
   "outputs": [
    {
     "name": "stdout",
     "output_type": "stream",
     "text": [
      "Using Kaggle's public dataset BigQuery integration.\n",
      "             by  NumPosts\n",
      "0       tptacek     58511\n",
      "1         pjc50     21417\n",
      "2           wmf     15814\n",
      "3   marcosdumay     12077\n",
      "4  WalterBright     18455\n"
     ]
    },
    {
     "data": {
      "application/javascript": [
       "parent.postMessage({\"jupyterEvent\": \"custom.exercise_interaction\", \"data\": {\"outcomeType\": 1, \"valueTowardsCompletion\": 0.5, \"interactionType\": 1, \"questionType\": 2, \"questionId\": \"1_ProlificCommenters\", \"learnToolsVersion\": \"0.3.4\", \"failureMessage\": \"\", \"exceptionClass\": \"\", \"trace\": \"\"}}, \"*\")"
      ],
      "text/plain": [
       "<IPython.core.display.Javascript object>"
      ]
     },
     "metadata": {},
     "output_type": "display_data"
    },
    {
     "data": {
      "text/markdown": [
       "<span style=\"color:#33cc33\">Correct</span>"
      ],
      "text/plain": [
       "Correct"
      ]
     },
     "metadata": {},
     "output_type": "display_data"
    }
   ],
   "source": [
    "# Query to select prolific commenters and post counts\n",
    "from google.cloud import bigquery\n",
    "\n",
    "#create a client object\n",
    "client = bigquery.Client()\n",
    "\n",
    "prolific_commenters_query = \"\"\"\n",
    "                            SELECT `by`, COUNT(id) AS NumPosts\n",
    "                            FROM `bigquery-public-data.hacker_news.full`\n",
    "                            GROUP BY `by`\n",
    "                            HAVING COUNT(1) > 10000\n",
    "\"\"\"# Your code goes here\n",
    "\n",
    "# Set up the query (cancel the query if it would use too much of \n",
    "# your quota, with the limit set to 1 GB)\n",
    "safe_config = bigquery.QueryJobConfig(maximum_bytes_billed=10**10)\n",
    "query_job = client.query(prolific_commenters_query, job_config=safe_config)\n",
    "\n",
    "# API request - run the query, and return a pandas DataFrame\n",
    "prolific_commenters = query_job.to_dataframe()\n",
    "\n",
    "# View top few rows of results\n",
    "print(prolific_commenters.head())\n",
    "\n",
    "# Check your answer\n",
    "q_1.check()"
   ]
  },
  {
   "cell_type": "markdown",
   "id": "2955458d",
   "metadata": {
    "papermill": {
     "duration": 0.00768,
     "end_time": "2023-09-05T09:11:06.074797",
     "exception": false,
     "start_time": "2023-09-05T09:11:06.067117",
     "status": "completed"
    },
    "tags": []
   },
   "source": [
    "For the solution, uncomment the line below."
   ]
  },
  {
   "cell_type": "code",
   "execution_count": 4,
   "id": "9d7e1abb",
   "metadata": {
    "execution": {
     "iopub.execute_input": "2023-09-05T09:11:06.093524Z",
     "iopub.status.busy": "2023-09-05T09:11:06.093062Z",
     "iopub.status.idle": "2023-09-05T09:11:06.103914Z",
     "shell.execute_reply": "2023-09-05T09:11:06.102571Z"
    },
    "papermill": {
     "duration": 0.022177,
     "end_time": "2023-09-05T09:11:06.106411",
     "exception": false,
     "start_time": "2023-09-05T09:11:06.084234",
     "status": "completed"
    },
    "tags": []
   },
   "outputs": [
    {
     "data": {
      "application/javascript": [
       "parent.postMessage({\"jupyterEvent\": \"custom.exercise_interaction\", \"data\": {\"interactionType\": 3, \"questionType\": 2, \"questionId\": \"1_ProlificCommenters\", \"learnToolsVersion\": \"0.3.4\", \"valueTowardsCompletion\": 0.0, \"failureMessage\": \"\", \"exceptionClass\": \"\", \"trace\": \"\", \"outcomeType\": 4}}, \"*\")"
      ],
      "text/plain": [
       "<IPython.core.display.Javascript object>"
      ]
     },
     "metadata": {},
     "output_type": "display_data"
    },
    {
     "data": {
      "text/markdown": [
       "<span style=\"color:#33cc99\">Solution:</span> \n",
       "```python\n",
       "\n",
       "prolific_commenters_query = \"\"\"\n",
       "                            SELECT `by`, COUNT(1) AS NumPosts\n",
       "                            FROM `bigquery-public-data.hacker_news.full`\n",
       "                            GROUP BY `by`\n",
       "                            HAVING COUNT(1) > 10000\n",
       "                            \"\"\"\n",
       "\n",
       "```"
      ],
      "text/plain": [
       "Solution: \n",
       "```python\n",
       "\n",
       "prolific_commenters_query = \"\"\"\n",
       "                            SELECT `by`, COUNT(1) AS NumPosts\n",
       "                            FROM `bigquery-public-data.hacker_news.full`\n",
       "                            GROUP BY `by`\n",
       "                            HAVING COUNT(1) > 10000\n",
       "                            \"\"\"\n",
       "\n",
       "```"
      ]
     },
     "metadata": {},
     "output_type": "display_data"
    }
   ],
   "source": [
    "q_1.solution()"
   ]
  },
  {
   "cell_type": "markdown",
   "id": "feec9a2b",
   "metadata": {
    "papermill": {
     "duration": 0.007742,
     "end_time": "2023-09-05T09:11:06.121115",
     "exception": false,
     "start_time": "2023-09-05T09:11:06.113373",
     "status": "completed"
    },
    "tags": []
   },
   "source": [
    "### 2) Deleted comments\n",
    "\n",
    "How many comments have been deleted? (If a comment was deleted, the `deleted` column in the comments table will have the value `True`.)"
   ]
  },
  {
   "cell_type": "code",
   "execution_count": 5,
   "id": "7320f0e1",
   "metadata": {
    "execution": {
     "iopub.execute_input": "2023-09-05T09:11:06.136732Z",
     "iopub.status.busy": "2023-09-05T09:11:06.136298Z",
     "iopub.status.idle": "2023-09-05T09:11:06.141906Z",
     "shell.execute_reply": "2023-09-05T09:11:06.140295Z"
    },
    "papermill": {
     "duration": 0.017448,
     "end_time": "2023-09-05T09:11:06.145416",
     "exception": false,
     "start_time": "2023-09-05T09:11:06.127968",
     "status": "completed"
    },
    "tags": []
   },
   "outputs": [],
   "source": [
    "# Write your query here and figure out the answer"
   ]
  },
  {
   "cell_type": "code",
   "execution_count": 6,
   "id": "b82ca10b",
   "metadata": {
    "execution": {
     "iopub.execute_input": "2023-09-05T09:11:06.162033Z",
     "iopub.status.busy": "2023-09-05T09:11:06.161657Z",
     "iopub.status.idle": "2023-09-05T09:11:07.855812Z",
     "shell.execute_reply": "2023-09-05T09:11:07.854208Z"
    },
    "papermill": {
     "duration": 1.706047,
     "end_time": "2023-09-05T09:11:07.859318",
     "exception": false,
     "start_time": "2023-09-05T09:11:06.153271",
     "status": "completed"
    },
    "tags": []
   },
   "outputs": [
    {
     "name": "stdout",
     "output_type": "stream",
     "text": [
      "Using Kaggle's public dataset BigQuery integration.\n",
      "   num_deleted_posts\n",
      "0             968172\n"
     ]
    },
    {
     "data": {
      "application/javascript": [
       "parent.postMessage({\"jupyterEvent\": \"custom.exercise_interaction\", \"data\": {\"outcomeType\": 1, \"valueTowardsCompletion\": 0.5, \"interactionType\": 1, \"questionType\": 1, \"questionId\": \"2_NumDeletedPosts\", \"learnToolsVersion\": \"0.3.4\", \"failureMessage\": \"\", \"exceptionClass\": \"\", \"trace\": \"\"}}, \"*\")"
      ],
      "text/plain": [
       "<IPython.core.display.Javascript object>"
      ]
     },
     "metadata": {},
     "output_type": "display_data"
    },
    {
     "data": {
      "text/markdown": [
       "<span style=\"color:#33cc33\">Correct</span>"
      ],
      "text/plain": [
       "Correct"
      ]
     },
     "metadata": {},
     "output_type": "display_data"
    }
   ],
   "source": [
    "from google.cloud import bigquery\n",
    "\n",
    "client = bigquery.Client()\n",
    "\n",
    "deleted_posts_query = \"\"\"\n",
    "                    SELECT COUNT(1) AS num_deleted_posts\n",
    "                    FROM `bigquery-public-data.hacker_news.full`\n",
    "                    WHERE deleted = True\n",
    "                    \"\"\" # Put your answer here\n",
    "query_job = client.query(deleted_posts_query)\n",
    "\n",
    "deleted_posts = query_job.to_dataframe()\n",
    "\n",
    "print(deleted_posts)\n",
    "\n",
    "num_deleted_posts = 968172\n",
    "# Check your answer\n",
    "q_2.check()"
   ]
  },
  {
   "cell_type": "markdown",
   "id": "4df7bcce",
   "metadata": {
    "papermill": {
     "duration": 0.006946,
     "end_time": "2023-09-05T09:11:07.874364",
     "exception": false,
     "start_time": "2023-09-05T09:11:07.867418",
     "status": "completed"
    },
    "tags": []
   },
   "source": [
    "For the solution, uncomment the line below."
   ]
  },
  {
   "cell_type": "code",
   "execution_count": 7,
   "id": "6305b529",
   "metadata": {
    "execution": {
     "iopub.execute_input": "2023-09-05T09:11:07.893005Z",
     "iopub.status.busy": "2023-09-05T09:11:07.892523Z",
     "iopub.status.idle": "2023-09-05T09:11:07.902961Z",
     "shell.execute_reply": "2023-09-05T09:11:07.901288Z"
    },
    "papermill": {
     "duration": 0.02226,
     "end_time": "2023-09-05T09:11:07.905715",
     "exception": false,
     "start_time": "2023-09-05T09:11:07.883455",
     "status": "completed"
    },
    "tags": []
   },
   "outputs": [
    {
     "data": {
      "application/javascript": [
       "parent.postMessage({\"jupyterEvent\": \"custom.exercise_interaction\", \"data\": {\"interactionType\": 3, \"questionType\": 1, \"questionId\": \"2_NumDeletedPosts\", \"learnToolsVersion\": \"0.3.4\", \"valueTowardsCompletion\": 0.0, \"failureMessage\": \"\", \"exceptionClass\": \"\", \"trace\": \"\", \"outcomeType\": 4}}, \"*\")"
      ],
      "text/plain": [
       "<IPython.core.display.Javascript object>"
      ]
     },
     "metadata": {},
     "output_type": "display_data"
    },
    {
     "data": {
      "text/markdown": [
       "<span style=\"color:#33cc99\">Solution:</span> \n",
       "```python\n",
       "\n",
       "# Query to determine how many posts were deleted\n",
       "deleted_posts_query = \"\"\"\n",
       "                      SELECT COUNT(1) AS num_deleted_posts\n",
       "                      FROM `bigquery-public-data.hacker_news.full`\n",
       "                      WHERE deleted = True\n",
       "                      \"\"\"\n",
       "                      \n",
       "# Set up the query\n",
       "query_job = client.query(deleted_posts_query)\n",
       "\n",
       "# API request - run the query, and return a pandas DataFrame\n",
       "deleted_posts = query_job.to_dataframe()\n",
       "\n",
       "# View results\n",
       "print(deleted_posts)\n",
       "\n",
       "num_deleted_posts = 968172\n",
       "\n",
       "```"
      ],
      "text/plain": [
       "Solution: \n",
       "```python\n",
       "\n",
       "# Query to determine how many posts were deleted\n",
       "deleted_posts_query = \"\"\"\n",
       "                      SELECT COUNT(1) AS num_deleted_posts\n",
       "                      FROM `bigquery-public-data.hacker_news.full`\n",
       "                      WHERE deleted = True\n",
       "                      \"\"\"\n",
       "                      \n",
       "# Set up the query\n",
       "query_job = client.query(deleted_posts_query)\n",
       "\n",
       "# API request - run the query, and return a pandas DataFrame\n",
       "deleted_posts = query_job.to_dataframe()\n",
       "\n",
       "# View results\n",
       "print(deleted_posts)\n",
       "\n",
       "num_deleted_posts = 968172\n",
       "\n",
       "```"
      ]
     },
     "metadata": {},
     "output_type": "display_data"
    }
   ],
   "source": [
    "q_2.solution()"
   ]
  },
  {
   "cell_type": "markdown",
   "id": "992d1bb9",
   "metadata": {
    "papermill": {
     "duration": 0.009058,
     "end_time": "2023-09-05T09:11:07.922576",
     "exception": false,
     "start_time": "2023-09-05T09:11:07.913518",
     "status": "completed"
    },
    "tags": []
   },
   "source": [
    "# Keep Going\n",
    "**[Click here](https://www.kaggle.com/dansbecker/order-by)** to move on and learn about the **ORDER BY** clause."
   ]
  },
  {
   "cell_type": "markdown",
   "id": "089588a2",
   "metadata": {
    "papermill": {
     "duration": 0.008493,
     "end_time": "2023-09-05T09:11:07.938834",
     "exception": false,
     "start_time": "2023-09-05T09:11:07.930341",
     "status": "completed"
    },
    "tags": []
   },
   "source": [
    "---\n",
    "\n",
    "\n",
    "\n",
    "\n",
    "*Have questions or comments? Visit the [course discussion forum](https://www.kaggle.com/learn/intro-to-sql/discussion) to chat with other learners.*"
   ]
  }
 ],
 "kernelspec": {
  "display_name": "Python 3",
  "language": "python",
  "name": "python3"
 },
 "language_info": {
  "codemirror_mode": {
   "name": "ipython",
   "version": 3
  },
  "file_extension": ".py",
  "mimetype": "text/x-python",
  "name": "python",
  "nbconvert_exporter": "python",
  "pygments_lexer": "ipython3",
  "version": "3.6.4"
 },
 "metadata": {
  "kernelspec": {
   "display_name": "Python 3",
   "language": "python",
   "name": "python3"
  },
  "language_info": {
   "codemirror_mode": {
    "name": "ipython",
    "version": 3
   },
   "file_extension": ".py",
   "mimetype": "text/x-python",
   "name": "python",
   "nbconvert_exporter": "python",
   "pygments_lexer": "ipython3",
   "version": "3.10.12"
  },
  "papermill": {
   "default_parameters": {},
   "duration": 19.404298,
   "end_time": "2023-09-05T09:11:08.871522",
   "environment_variables": {},
   "exception": null,
   "input_path": "__notebook__.ipynb",
   "output_path": "__notebook__.ipynb",
   "parameters": {},
   "start_time": "2023-09-05T09:10:49.467224",
   "version": "2.4.0"
  }
 },
 "nbformat": 4,
 "nbformat_minor": 5
}
